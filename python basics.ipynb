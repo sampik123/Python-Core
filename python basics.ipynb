{
 "cells": [
  {
   "cell_type": "code",
   "execution_count": 1,
   "id": "03879fe2",
   "metadata": {},
   "outputs": [
    {
     "name": "stdout",
     "output_type": "stream",
     "text": [
      "this is my first python program\n"
     ]
    }
   ],
   "source": [
    "print(\"this is my first python program\")"
   ]
  },
  {
   "cell_type": "code",
   "execution_count": 2,
   "id": "a1410de8",
   "metadata": {},
   "outputs": [
    {
     "ename": "SyntaxError",
     "evalue": "Missing parentheses in call to 'print'. Did you mean print(\"this is my forat program\")? (<ipython-input-2-f7fd362f4068>, line 1)",
     "output_type": "error",
     "traceback": [
      "\u001b[1;36m  File \u001b[1;32m\"<ipython-input-2-f7fd362f4068>\"\u001b[1;36m, line \u001b[1;32m1\u001b[0m\n\u001b[1;33m    print \"this is my forat program\"\u001b[0m\n\u001b[1;37m          ^\u001b[0m\n\u001b[1;31mSyntaxError\u001b[0m\u001b[1;31m:\u001b[0m Missing parentheses in call to 'print'. Did you mean print(\"this is my forat program\")?\n"
     ]
    }
   ],
   "source": [
    "print \"this is my forat program\"\n",
    "#this syntax is correct in 2.x python"
   ]
  },
  {
   "cell_type": "code",
   "execution_count": 4,
   "id": "3f783ab6",
   "metadata": {},
   "outputs": [
    {
     "data": {
      "text/plain": [
       "'sd\\nffg\\nf\\ngg'"
      ]
     },
     "execution_count": 4,
     "metadata": {},
     "output_type": "execute_result"
    }
   ],
   "source": [
    "## for commenting the things\n",
    "#my name is sampik\n",
    "\"\"\"sd\n",
    "ffg\n",
    "f\n",
    "gg\"\"\"\n",
    "#triple quotes for multiline comments"
   ]
  },
  {
   "cell_type": "code",
   "execution_count": 5,
   "id": "ba1f4287",
   "metadata": {},
   "outputs": [],
   "source": [
    "a=10"
   ]
  },
  {
   "cell_type": "code",
   "execution_count": 6,
   "id": "01657cac",
   "metadata": {},
   "outputs": [
    {
     "data": {
      "text/plain": [
       "10"
      ]
     },
     "execution_count": 6,
     "metadata": {},
     "output_type": "execute_result"
    }
   ],
   "source": [
    "a"
   ]
  },
  {
   "cell_type": "code",
   "execution_count": 7,
   "id": "76fa0097",
   "metadata": {},
   "outputs": [
    {
     "data": {
      "text/plain": [
       "int"
      ]
     },
     "execution_count": 7,
     "metadata": {},
     "output_type": "execute_result"
    }
   ],
   "source": [
    "type(a)"
   ]
  },
  {
   "cell_type": "code",
   "execution_count": 8,
   "id": "5e4b20a0",
   "metadata": {},
   "outputs": [],
   "source": [
    "b=\"sampik chdfkdkfj fkfkfl\""
   ]
  },
  {
   "cell_type": "code",
   "execution_count": 9,
   "id": "d1f613b1",
   "metadata": {},
   "outputs": [
    {
     "data": {
      "text/plain": [
       "'sampik chdfkdkfj fkfkfl'"
      ]
     },
     "execution_count": 9,
     "metadata": {},
     "output_type": "execute_result"
    }
   ],
   "source": [
    "b"
   ]
  },
  {
   "cell_type": "code",
   "execution_count": 10,
   "id": "effdcf01",
   "metadata": {},
   "outputs": [
    {
     "data": {
      "text/plain": [
       "str"
      ]
     },
     "execution_count": 10,
     "metadata": {},
     "output_type": "execute_result"
    }
   ],
   "source": [
    "type(b)"
   ]
  },
  {
   "cell_type": "code",
   "execution_count": 11,
   "id": "57da27e4",
   "metadata": {},
   "outputs": [
    {
     "name": "stdout",
     "output_type": "stream",
     "text": [
      "sampik chdfkdkfj fkfkfl 10 sampik kumar gupta\n"
     ]
    }
   ],
   "source": [
    "print(b, a, 'sampik kumar gupta')"
   ]
  },
  {
   "cell_type": "code",
   "execution_count": 12,
   "id": "b3b17799",
   "metadata": {},
   "outputs": [],
   "source": [
    "a=45\n",
    "b=\"sampik\""
   ]
  },
  {
   "cell_type": "code",
   "execution_count": 13,
   "id": "4ae74e2c",
   "metadata": {},
   "outputs": [],
   "source": [
    "a,b , s = 45, \"sampik\", \"this is my name\""
   ]
  },
  {
   "cell_type": "code",
   "execution_count": 14,
   "id": "c7b2d0c1",
   "metadata": {},
   "outputs": [
    {
     "data": {
      "text/plain": [
       "45"
      ]
     },
     "execution_count": 14,
     "metadata": {},
     "output_type": "execute_result"
    }
   ],
   "source": [
    "a\n"
   ]
  },
  {
   "cell_type": "code",
   "execution_count": 15,
   "id": "f3745b04",
   "metadata": {},
   "outputs": [
    {
     "data": {
      "text/plain": [
       "'sampik'"
      ]
     },
     "execution_count": 15,
     "metadata": {},
     "output_type": "execute_result"
    }
   ],
   "source": [
    "b"
   ]
  },
  {
   "cell_type": "code",
   "execution_count": 16,
   "id": "db70ac21",
   "metadata": {},
   "outputs": [
    {
     "data": {
      "text/plain": [
       "'this is my name'"
      ]
     },
     "execution_count": 16,
     "metadata": {},
     "output_type": "execute_result"
    }
   ],
   "source": [
    "s"
   ]
  },
  {
   "cell_type": "code",
   "execution_count": 17,
   "id": "1ccd6b25",
   "metadata": {},
   "outputs": [
    {
     "data": {
      "text/plain": [
       "int"
      ]
     },
     "execution_count": 17,
     "metadata": {},
     "output_type": "execute_result"
    }
   ],
   "source": [
    "type(a)"
   ]
  },
  {
   "cell_type": "code",
   "execution_count": 18,
   "id": "582f24fe",
   "metadata": {},
   "outputs": [
    {
     "data": {
      "text/plain": [
       "str"
      ]
     },
     "execution_count": 18,
     "metadata": {},
     "output_type": "execute_result"
    }
   ],
   "source": [
    "type(b)"
   ]
  },
  {
   "cell_type": "code",
   "execution_count": 19,
   "id": "5e48eee2",
   "metadata": {},
   "outputs": [
    {
     "data": {
      "text/plain": [
       "str"
      ]
     },
     "execution_count": 19,
     "metadata": {},
     "output_type": "execute_result"
    }
   ],
   "source": [
    "type(s)"
   ]
  },
  {
   "cell_type": "code",
   "execution_count": 20,
   "id": "0993476f",
   "metadata": {},
   "outputs": [
    {
     "data": {
      "text/plain": [
       "(45, 'sampik', 'this is my name')"
      ]
     },
     "execution_count": 20,
     "metadata": {},
     "output_type": "execute_result"
    }
   ],
   "source": [
    "a,b,s"
   ]
  },
  {
   "cell_type": "code",
   "execution_count": 21,
   "id": "e88e8a9e",
   "metadata": {},
   "outputs": [
    {
     "name": "stdout",
     "output_type": "stream",
     "text": [
      "45 sampik this is my name\n"
     ]
    }
   ],
   "source": [
    "print(a,b,s)"
   ]
  },
  {
   "cell_type": "code",
   "execution_count": 22,
   "id": "a8034caf",
   "metadata": {},
   "outputs": [
    {
     "ename": "SyntaxError",
     "evalue": "invalid syntax (<ipython-input-22-9917190363dc>, line 2)",
     "output_type": "error",
     "traceback": [
      "\u001b[1;36m  File \u001b[1;32m\"<ipython-input-22-9917190363dc>\"\u001b[1;36m, line \u001b[1;32m2\u001b[0m\n\u001b[1;33m    1b= 'sampik'\u001b[0m\n\u001b[1;37m     ^\u001b[0m\n\u001b[1;31mSyntaxError\u001b[0m\u001b[1;31m:\u001b[0m invalid syntax\n"
     ]
    }
   ],
   "source": [
    "#variable name should not start with numbers\n",
    "1b= 'sampik'\n",
    "1b"
   ]
  },
  {
   "cell_type": "code",
   "execution_count": 23,
   "id": "def254c7",
   "metadata": {},
   "outputs": [
    {
     "data": {
      "text/plain": [
       "3456"
      ]
     },
     "execution_count": 23,
     "metadata": {},
     "output_type": "execute_result"
    }
   ],
   "source": [
    "_b= 3456\n",
    "_b"
   ]
  },
  {
   "cell_type": "code",
   "execution_count": 24,
   "id": "a3ae9339",
   "metadata": {},
   "outputs": [
    {
     "ename": "TypeError",
     "evalue": "unsupported operand type(s) for &=: 'str' and 'str'",
     "output_type": "error",
     "traceback": [
      "\u001b[1;31m---------------------------------------------------------------------------\u001b[0m",
      "\u001b[1;31mTypeError\u001b[0m                                 Traceback (most recent call last)",
      "\u001b[1;32m<ipython-input-24-915aef9823ee>\u001b[0m in \u001b[0;36m<module>\u001b[1;34m\u001b[0m\n\u001b[1;32m----> 1\u001b[1;33m \u001b[0mb\u001b[0m\u001b[1;33m&=\u001b[0m\u001b[1;34m\" sampik\"\u001b[0m\u001b[1;33m\u001b[0m\u001b[1;33m\u001b[0m\u001b[0m\n\u001b[0m",
      "\u001b[1;31mTypeError\u001b[0m: unsupported operand type(s) for &=: 'str' and 'str'"
     ]
    }
   ],
   "source": [
    "b&=\" sampik\""
   ]
  },
  {
   "cell_type": "code",
   "execution_count": 25,
   "id": "8d1ef8a0",
   "metadata": {},
   "outputs": [],
   "source": [
    "name = \"sampik\"\n",
    "user_id= 12345\n",
    "password= 33456\n",
    "email_id= \"sam@gmail.com\""
   ]
  },
  {
   "cell_type": "code",
   "execution_count": 26,
   "id": "da1a989a",
   "metadata": {},
   "outputs": [
    {
     "data": {
      "text/plain": [
       "'sampik'"
      ]
     },
     "execution_count": 26,
     "metadata": {},
     "output_type": "execute_result"
    }
   ],
   "source": [
    "name"
   ]
  },
  {
   "cell_type": "code",
   "execution_count": 27,
   "id": "ed3ce7c0",
   "metadata": {},
   "outputs": [
    {
     "data": {
      "text/plain": [
       "12345"
      ]
     },
     "execution_count": 27,
     "metadata": {},
     "output_type": "execute_result"
    }
   ],
   "source": [
    "user_id"
   ]
  },
  {
   "cell_type": "code",
   "execution_count": 28,
   "id": "90f2cefa",
   "metadata": {},
   "outputs": [
    {
     "data": {
      "text/plain": [
       "33456"
      ]
     },
     "execution_count": 28,
     "metadata": {},
     "output_type": "execute_result"
    }
   ],
   "source": [
    "password"
   ]
  },
  {
   "cell_type": "code",
   "execution_count": 29,
   "id": "eb52dd49",
   "metadata": {},
   "outputs": [
    {
     "data": {
      "text/plain": [
       "'sam@gmail.com'"
      ]
     },
     "execution_count": 29,
     "metadata": {},
     "output_type": "execute_result"
    }
   ],
   "source": [
    "email_id"
   ]
  },
  {
   "cell_type": "code",
   "execution_count": 30,
   "id": "ad3d2c47",
   "metadata": {},
   "outputs": [],
   "source": [
    "a= 1.684758585758"
   ]
  },
  {
   "cell_type": "code",
   "execution_count": 31,
   "id": "cf8614dd",
   "metadata": {},
   "outputs": [
    {
     "data": {
      "text/plain": [
       "float"
      ]
     },
     "execution_count": 31,
     "metadata": {},
     "output_type": "execute_result"
    }
   ],
   "source": [
    "type(a)"
   ]
  },
  {
   "cell_type": "code",
   "execution_count": 32,
   "id": "7019a833",
   "metadata": {},
   "outputs": [],
   "source": [
    "b= True\n",
    "c= False"
   ]
  },
  {
   "cell_type": "code",
   "execution_count": 33,
   "id": "186da8a8",
   "metadata": {},
   "outputs": [
    {
     "data": {
      "text/plain": [
       "bool"
      ]
     },
     "execution_count": 33,
     "metadata": {},
     "output_type": "execute_result"
    }
   ],
   "source": [
    "type(b)"
   ]
  },
  {
   "cell_type": "code",
   "execution_count": 34,
   "id": "7414c3fe",
   "metadata": {},
   "outputs": [
    {
     "data": {
      "text/plain": [
       "bool"
      ]
     },
     "execution_count": 34,
     "metadata": {},
     "output_type": "execute_result"
    }
   ],
   "source": [
    "type(c)"
   ]
  },
  {
   "cell_type": "code",
   "execution_count": 35,
   "id": "036a0ec8",
   "metadata": {},
   "outputs": [
    {
     "name": "stdout",
     "output_type": "stream",
     "text": [
      "4\n",
      "0\n"
     ]
    }
   ],
   "source": [
    "print(True + True + True + False + True)\n",
    "print(False - True + True)"
   ]
  },
  {
   "cell_type": "code",
   "execution_count": 36,
   "id": "e4bd2ee8",
   "metadata": {},
   "outputs": [
    {
     "data": {
      "text/plain": [
       "1"
      ]
     },
     "execution_count": 36,
     "metadata": {},
     "output_type": "execute_result"
    }
   ],
   "source": [
    "True * True"
   ]
  },
  {
   "cell_type": "code",
   "execution_count": 37,
   "id": "ac2d5793",
   "metadata": {},
   "outputs": [
    {
     "ename": "ZeroDivisionError",
     "evalue": "division by zero",
     "output_type": "error",
     "traceback": [
      "\u001b[1;31m---------------------------------------------------------------------------\u001b[0m",
      "\u001b[1;31mZeroDivisionError\u001b[0m                         Traceback (most recent call last)",
      "\u001b[1;32m<ipython-input-37-e2018520fe6c>\u001b[0m in \u001b[0;36m<module>\u001b[1;34m\u001b[0m\n\u001b[1;32m----> 1\u001b[1;33m \u001b[1;32mTrue\u001b[0m\u001b[1;33m/\u001b[0m \u001b[1;32mFalse\u001b[0m\u001b[1;33m\u001b[0m\u001b[1;33m\u001b[0m\u001b[0m\n\u001b[0m",
      "\u001b[1;31mZeroDivisionError\u001b[0m: division by zero"
     ]
    }
   ],
   "source": [
    "True/ False"
   ]
  },
  {
   "cell_type": "code",
   "execution_count": 38,
   "id": "8f493caa",
   "metadata": {},
   "outputs": [
    {
     "data": {
      "text/plain": [
       "complex"
      ]
     },
     "execution_count": 38,
     "metadata": {},
     "output_type": "execute_result"
    }
   ],
   "source": [
    "n= 45+ 6j \n",
    "type(n)"
   ]
  },
  {
   "cell_type": "code",
   "execution_count": 39,
   "id": "8ee43f82",
   "metadata": {},
   "outputs": [
    {
     "data": {
      "text/plain": [
       "(45+6j)"
      ]
     },
     "execution_count": 39,
     "metadata": {},
     "output_type": "execute_result"
    }
   ],
   "source": [
    "n"
   ]
  },
  {
   "cell_type": "code",
   "execution_count": 40,
   "id": "3b2e80a5",
   "metadata": {},
   "outputs": [
    {
     "data": {
      "text/plain": [
       "45.0"
      ]
     },
     "execution_count": 40,
     "metadata": {},
     "output_type": "execute_result"
    }
   ],
   "source": [
    "n.real"
   ]
  },
  {
   "cell_type": "code",
   "execution_count": 41,
   "id": "80f7dc2e",
   "metadata": {},
   "outputs": [
    {
     "data": {
      "text/plain": [
       "6.0"
      ]
     },
     "execution_count": 41,
     "metadata": {},
     "output_type": "execute_result"
    }
   ],
   "source": [
    "n.imag"
   ]
  },
  {
   "cell_type": "code",
   "execution_count": 42,
   "id": "41a3d93b",
   "metadata": {},
   "outputs": [],
   "source": [
    "# j is to represent imaginary part in python"
   ]
  },
  {
   "cell_type": "code",
   "execution_count": 43,
   "id": "1197f971",
   "metadata": {},
   "outputs": [],
   "source": [
    "n= 45 +6j\n",
    "m= 56 + 8j"
   ]
  },
  {
   "cell_type": "code",
   "execution_count": 44,
   "id": "2adb220e",
   "metadata": {},
   "outputs": [
    {
     "data": {
      "text/plain": [
       "(2472+696j)"
      ]
     },
     "execution_count": 44,
     "metadata": {},
     "output_type": "execute_result"
    }
   ],
   "source": [
    "n*m"
   ]
  },
  {
   "cell_type": "code",
   "execution_count": 45,
   "id": "6d72b601",
   "metadata": {},
   "outputs": [
    {
     "ename": "TypeError",
     "evalue": "unsupported operand type(s) for +: 'int' and 'str'",
     "output_type": "error",
     "traceback": [
      "\u001b[1;31m---------------------------------------------------------------------------\u001b[0m",
      "\u001b[1;31mTypeError\u001b[0m                                 Traceback (most recent call last)",
      "\u001b[1;32m<ipython-input-45-519f8154c473>\u001b[0m in \u001b[0;36m<module>\u001b[1;34m\u001b[0m\n\u001b[1;32m----> 1\u001b[1;33m \u001b[1;36m1\u001b[0m \u001b[1;33m+\u001b[0m \u001b[1;34m\"sampik\"\u001b[0m\u001b[1;33m\u001b[0m\u001b[1;33m\u001b[0m\u001b[0m\n\u001b[0m",
      "\u001b[1;31mTypeError\u001b[0m: unsupported operand type(s) for +: 'int' and 'str'"
     ]
    }
   ],
   "source": [
    "1 + \"sampik\""
   ]
  },
  {
   "cell_type": "code",
   "execution_count": 46,
   "id": "8048fbb7",
   "metadata": {},
   "outputs": [
    {
     "data": {
      "text/plain": [
       "'1sampik'"
      ]
     },
     "execution_count": 46,
     "metadata": {},
     "output_type": "execute_result"
    }
   ],
   "source": [
    "str(1) + \"sampik\""
   ]
  },
  {
   "cell_type": "code",
   "execution_count": 47,
   "id": "57df34cd",
   "metadata": {},
   "outputs": [
    {
     "data": {
      "text/plain": [
       "'1sampik'"
      ]
     },
     "execution_count": 47,
     "metadata": {},
     "output_type": "execute_result"
    }
   ],
   "source": [
    "\"1\" + \"sampik\""
   ]
  },
  {
   "cell_type": "code",
   "execution_count": 48,
   "id": "d0713874",
   "metadata": {},
   "outputs": [
    {
     "data": {
      "text/plain": [
       "2.0"
      ]
     },
     "execution_count": 48,
     "metadata": {},
     "output_type": "execute_result"
    }
   ],
   "source": [
    "1 + 1.0"
   ]
  },
  {
   "cell_type": "code",
   "execution_count": 49,
   "id": "f9b04578",
   "metadata": {},
   "outputs": [
    {
     "data": {
      "text/plain": [
       "'sampiksampiksampik'"
      ]
     },
     "execution_count": 49,
     "metadata": {},
     "output_type": "execute_result"
    }
   ],
   "source": [
    "\"sampik\" + \"sampik\"+ \"sampik\""
   ]
  },
  {
   "cell_type": "code",
   "execution_count": 50,
   "id": "55d53a68",
   "metadata": {},
   "outputs": [
    {
     "data": {
      "text/plain": [
       "'sampiksampiksampik'"
      ]
     },
     "execution_count": 50,
     "metadata": {},
     "output_type": "execute_result"
    }
   ],
   "source": [
    "\"sampik\" * 3"
   ]
  },
  {
   "cell_type": "code",
   "execution_count": 51,
   "id": "a20a9f30",
   "metadata": {},
   "outputs": [
    {
     "ename": "TypeError",
     "evalue": "unsupported operand type(s) for -: 'str' and 'str'",
     "output_type": "error",
     "traceback": [
      "\u001b[1;31m---------------------------------------------------------------------------\u001b[0m",
      "\u001b[1;31mTypeError\u001b[0m                                 Traceback (most recent call last)",
      "\u001b[1;32m<ipython-input-51-ad7b0cbc5632>\u001b[0m in \u001b[0;36m<module>\u001b[1;34m\u001b[0m\n\u001b[1;32m----> 1\u001b[1;33m \u001b[1;34m\"sampik\"\u001b[0m \u001b[1;33m-\u001b[0m \u001b[1;34m\"sampik \"\u001b[0m\u001b[1;33m\u001b[0m\u001b[1;33m\u001b[0m\u001b[0m\n\u001b[0m",
      "\u001b[1;31mTypeError\u001b[0m: unsupported operand type(s) for -: 'str' and 'str'"
     ]
    }
   ],
   "source": [
    "\"sampik\" - \"sampik \""
   ]
  },
  {
   "cell_type": "code",
   "execution_count": 52,
   "id": "c4cfdf73",
   "metadata": {},
   "outputs": [
    {
     "data": {
      "text/plain": [
       "23"
      ]
     },
     "execution_count": 52,
     "metadata": {},
     "output_type": "execute_result"
    }
   ],
   "source": [
    "int('23')"
   ]
  },
  {
   "cell_type": "code",
   "execution_count": 53,
   "id": "988db0ea",
   "metadata": {},
   "outputs": [
    {
     "ename": "ValueError",
     "evalue": "invalid literal for int() with base 10: 'sampik'",
     "output_type": "error",
     "traceback": [
      "\u001b[1;31m---------------------------------------------------------------------------\u001b[0m",
      "\u001b[1;31mValueError\u001b[0m                                Traceback (most recent call last)",
      "\u001b[1;32m<ipython-input-53-f40e17dc719f>\u001b[0m in \u001b[0;36m<module>\u001b[1;34m\u001b[0m\n\u001b[1;32m----> 1\u001b[1;33m \u001b[0mint\u001b[0m\u001b[1;33m(\u001b[0m\u001b[1;34m\"sampik\"\u001b[0m\u001b[1;33m)\u001b[0m\u001b[1;33m\u001b[0m\u001b[1;33m\u001b[0m\u001b[0m\n\u001b[0m",
      "\u001b[1;31mValueError\u001b[0m: invalid literal for int() with base 10: 'sampik'"
     ]
    }
   ],
   "source": [
    "int(\"sampik\")"
   ]
  },
  {
   "cell_type": "code",
   "execution_count": 54,
   "id": "38bf6304",
   "metadata": {},
   "outputs": [
    {
     "ename": "TypeError",
     "evalue": "can't multiply sequence by non-int of type 'str'",
     "output_type": "error",
     "traceback": [
      "\u001b[1;31m---------------------------------------------------------------------------\u001b[0m",
      "\u001b[1;31mTypeError\u001b[0m                                 Traceback (most recent call last)",
      "\u001b[1;32m<ipython-input-54-cf2760b7422f>\u001b[0m in \u001b[0;36m<module>\u001b[1;34m\u001b[0m\n\u001b[1;32m----> 1\u001b[1;33m \u001b[1;34m\"sampik\"\u001b[0m \u001b[1;33m*\u001b[0m \u001b[1;34m\"sampik\"\u001b[0m\u001b[1;33m\u001b[0m\u001b[1;33m\u001b[0m\u001b[0m\n\u001b[0m",
      "\u001b[1;31mTypeError\u001b[0m: can't multiply sequence by non-int of type 'str'"
     ]
    }
   ],
   "source": [
    "\"sampik\" * \"sampik\""
   ]
  },
  {
   "cell_type": "code",
   "execution_count": 55,
   "id": "cc5d6613",
   "metadata": {},
   "outputs": [],
   "source": [
    "a=10\n"
   ]
  },
  {
   "cell_type": "code",
   "execution_count": 56,
   "id": "0d5dd2a5",
   "metadata": {},
   "outputs": [
    {
     "name": "stdout",
     "output_type": "stream",
     "text": [
      "23\n"
     ]
    }
   ],
   "source": [
    "a= input()"
   ]
  },
  {
   "cell_type": "code",
   "execution_count": 57,
   "id": "e16612a8",
   "metadata": {},
   "outputs": [
    {
     "data": {
      "text/plain": [
       "'23'"
      ]
     },
     "execution_count": 57,
     "metadata": {},
     "output_type": "execute_result"
    }
   ],
   "source": [
    "a"
   ]
  },
  {
   "cell_type": "code",
   "execution_count": 58,
   "id": "e6366684",
   "metadata": {},
   "outputs": [
    {
     "name": "stdout",
     "output_type": "stream",
     "text": [
      "enter a integer12345\n"
     ]
    }
   ],
   "source": [
    "a= input(\"enter a integer\")"
   ]
  },
  {
   "cell_type": "code",
   "execution_count": 59,
   "id": "84dcc50a",
   "metadata": {},
   "outputs": [
    {
     "data": {
      "text/plain": [
       "str"
      ]
     },
     "execution_count": 59,
     "metadata": {},
     "output_type": "execute_result"
    }
   ],
   "source": [
    "type(a)"
   ]
  },
  {
   "cell_type": "code",
   "execution_count": 60,
   "id": "fb593c77",
   "metadata": {},
   "outputs": [
    {
     "name": "stdout",
     "output_type": "stream",
     "text": [
      "enter first integer12\n",
      "enter second integer13\n",
      "enter third integer14\n"
     ]
    },
    {
     "ename": "TypeError",
     "evalue": "unsupported operand type(s) for /: 'str' and 'str'",
     "output_type": "error",
     "traceback": [
      "\u001b[1;31m---------------------------------------------------------------------------\u001b[0m",
      "\u001b[1;31mTypeError\u001b[0m                                 Traceback (most recent call last)",
      "\u001b[1;32m<ipython-input-60-9c09b342ebef>\u001b[0m in \u001b[0;36m<module>\u001b[1;34m\u001b[0m\n\u001b[0;32m      3\u001b[0m \u001b[0mc\u001b[0m\u001b[1;33m=\u001b[0m \u001b[0minput\u001b[0m\u001b[1;33m(\u001b[0m\u001b[1;34m\"enter third integer\"\u001b[0m\u001b[1;33m)\u001b[0m\u001b[1;33m\u001b[0m\u001b[1;33m\u001b[0m\u001b[0m\n\u001b[0;32m      4\u001b[0m \u001b[1;33m\u001b[0m\u001b[0m\n\u001b[1;32m----> 5\u001b[1;33m \u001b[0mo\u001b[0m \u001b[1;33m=\u001b[0m \u001b[1;33m(\u001b[0m\u001b[0ma\u001b[0m\u001b[1;33m+\u001b[0m\u001b[0mb\u001b[0m\u001b[1;33m)\u001b[0m\u001b[1;33m/\u001b[0m\u001b[0mc\u001b[0m\u001b[1;33m\u001b[0m\u001b[1;33m\u001b[0m\u001b[0m\n\u001b[0m\u001b[0;32m      6\u001b[0m \u001b[0mo1\u001b[0m\u001b[1;33m=\u001b[0m \u001b[0mo\u001b[0m \u001b[1;33m+\u001b[0m \u001b[1;36m2j\u001b[0m\u001b[1;33m\u001b[0m\u001b[1;33m\u001b[0m\u001b[0m\n\u001b[0;32m      7\u001b[0m \u001b[0mo2\u001b[0m\u001b[1;33m=\u001b[0m \u001b[1;33m(\u001b[0m\u001b[0mo\u001b[0m \u001b[1;33m+\u001b[0m\u001b[1;34m\"sampik\"\u001b[0m\u001b[1;33m)\u001b[0m\u001b[1;33m\u001b[0m\u001b[1;33m\u001b[0m\u001b[0m\n",
      "\u001b[1;31mTypeError\u001b[0m: unsupported operand type(s) for /: 'str' and 'str'"
     ]
    }
   ],
   "source": [
    "a = input(\"enter first integer\")\n",
    "b = input(\"enter second integer\")\n",
    "c= input(\"enter third integer\")\n",
    "\n",
    "o = (a+b)/c\n",
    "o1= o + 2j\n",
    "o2= (o +\"sampik\")"
   ]
  },
  {
   "cell_type": "code",
   "execution_count": 61,
   "id": "03dd17d3",
   "metadata": {},
   "outputs": [
    {
     "name": "stdout",
     "output_type": "stream",
     "text": [
      "this is my var a 12\n",
      "this is my var b 13\n",
      "this is my var c 14\n"
     ]
    }
   ],
   "source": [
    "a = int(input(\"this is my var a \"))\n",
    "b= int(input(\"this is my var b \"))\n",
    "c= int(input(\"this is my var c \"))\n"
   ]
  },
  {
   "cell_type": "code",
   "execution_count": 62,
   "id": "0754588a",
   "metadata": {},
   "outputs": [
    {
     "data": {
      "text/plain": [
       "(12, 13, 14)"
      ]
     },
     "execution_count": 62,
     "metadata": {},
     "output_type": "execute_result"
    }
   ],
   "source": [
    "a,b,c"
   ]
  },
  {
   "cell_type": "code",
   "execution_count": 63,
   "id": "dfb3cfb8",
   "metadata": {},
   "outputs": [],
   "source": [
    "o = a+b/c"
   ]
  },
  {
   "cell_type": "code",
   "execution_count": 64,
   "id": "e3e23907",
   "metadata": {},
   "outputs": [
    {
     "data": {
      "text/plain": [
       "12.928571428571429"
      ]
     },
     "execution_count": 64,
     "metadata": {},
     "output_type": "execute_result"
    }
   ],
   "source": [
    "o"
   ]
  },
  {
   "cell_type": "code",
   "execution_count": 65,
   "id": "543292ac",
   "metadata": {},
   "outputs": [
    {
     "data": {
      "text/plain": [
       "(90.92857142857143+6j)"
      ]
     },
     "execution_count": 65,
     "metadata": {},
     "output_type": "execute_result"
    }
   ],
   "source": [
    "o1= o + 78 + 6j\n",
    "o1"
   ]
  },
  {
   "cell_type": "code",
   "execution_count": 66,
   "id": "f30ce191",
   "metadata": {},
   "outputs": [
    {
     "data": {
      "text/plain": [
       "complex"
      ]
     },
     "execution_count": 66,
     "metadata": {},
     "output_type": "execute_result"
    }
   ],
   "source": [
    "type(o1)"
   ]
  },
  {
   "cell_type": "code",
   "execution_count": 67,
   "id": "cd089cdf",
   "metadata": {},
   "outputs": [
    {
     "ename": "TypeError",
     "evalue": "unsupported operand type(s) for +: 'complex' and 'str'",
     "output_type": "error",
     "traceback": [
      "\u001b[1;31m---------------------------------------------------------------------------\u001b[0m",
      "\u001b[1;31mTypeError\u001b[0m                                 Traceback (most recent call last)",
      "\u001b[1;32m<ipython-input-67-0ff9a6e4de2b>\u001b[0m in \u001b[0;36m<module>\u001b[1;34m\u001b[0m\n\u001b[1;32m----> 1\u001b[1;33m \u001b[0mo1\u001b[0m \u001b[1;33m+\u001b[0m \u001b[1;34m\"sampik\"\u001b[0m\u001b[1;33m\u001b[0m\u001b[1;33m\u001b[0m\u001b[0m\n\u001b[0m",
      "\u001b[1;31mTypeError\u001b[0m: unsupported operand type(s) for +: 'complex' and 'str'"
     ]
    }
   ],
   "source": [
    "o1 + \"sampik\""
   ]
  },
  {
   "cell_type": "code",
   "execution_count": 69,
   "id": "3d9d675d",
   "metadata": {},
   "outputs": [
    {
     "data": {
      "text/plain": [
       "'(90.92857142857143+6j)sampik'"
      ]
     },
     "execution_count": 69,
     "metadata": {},
     "output_type": "execute_result"
    }
   ],
   "source": [
    "str(o1) + \"sampik\""
   ]
  },
  {
   "cell_type": "code",
   "execution_count": 70,
   "id": "bc3d91ee",
   "metadata": {},
   "outputs": [
    {
     "name": "stdout",
     "output_type": "stream",
     "text": [
      "input a number lesser than 34---56\n"
     ]
    }
   ],
   "source": [
    " a= int(input(\"input a number lesser than 34---\"))"
   ]
  },
  {
   "cell_type": "code",
   "execution_count": 72,
   "id": "be931e0f",
   "metadata": {},
   "outputs": [],
   "source": [
    "if a<34 :\n",
    "    pass"
   ]
  },
  {
   "cell_type": "code",
   "execution_count": 78,
   "id": "a69117e3",
   "metadata": {},
   "outputs": [
    {
     "name": "stdout",
     "output_type": "stream",
     "text": [
      "input a number35\n"
     ]
    }
   ],
   "source": [
    "a= int(input(\"input a number\"))\n",
    "#indentation is necessary in python...    \n",
    "if a<34:\n",
    "    print('data input is lesser then 34 and i am fine with it')"
   ]
  },
  {
   "cell_type": "code",
   "execution_count": 81,
   "id": "684ad871",
   "metadata": {},
   "outputs": [
    {
     "ename": "IndentationError",
     "evalue": "expected an indented block (<ipython-input-81-4b67ed5b9e9d>, line 3)",
     "output_type": "error",
     "traceback": [
      "\u001b[1;36m  File \u001b[1;32m\"<ipython-input-81-4b67ed5b9e9d>\"\u001b[1;36m, line \u001b[1;32m3\u001b[0m\n\u001b[1;33m    print('data input is lesser then 34 and i am fine with it')\u001b[0m\n\u001b[1;37m    ^\u001b[0m\n\u001b[1;31mIndentationError\u001b[0m\u001b[1;31m:\u001b[0m expected an indented block\n"
     ]
    }
   ],
   "source": [
    " a= int(input(\"input a number\"))\n",
    "if a<34:\n",
    "print('data input is lesser then 34 and i am fine with it')"
   ]
  },
  {
   "cell_type": "code",
   "execution_count": 82,
   "id": "34d6149e",
   "metadata": {},
   "outputs": [
    {
     "name": "stdout",
     "output_type": "stream",
     "text": [
      "input a number56\n",
      "user input is not lesser than 34\n"
     ]
    }
   ],
   "source": [
    "a= int(input(\"input a number\"))\n",
    "#indentation is necessary in python...    \n",
    "if a<34:\n",
    "    print('data input is lesser then 34 and i am fine with it')\n",
    "else:\n",
    "    print(\"user input is not lesser than 34\")"
   ]
  },
  {
   "cell_type": "code",
   "execution_count": 83,
   "id": "3f8f2ba1",
   "metadata": {},
   "outputs": [
    {
     "name": "stdout",
     "output_type": "stream",
     "text": [
      "input a number78\n",
      "my data is lesser than 100\n"
     ]
    }
   ],
   "source": [
    "a= int(input(\"input a number\"))   \n",
    "if a<34:\n",
    "    print('data input is lesser then 34 and i am fine with it')\n",
    "elif a<100:\n",
    "    print(\"my data is lesser than 100\")\n",
    "else:\n",
    "    print(\"user input is not lesser than 34\")\n",
    "    "
   ]
  },
  {
   "cell_type": "code",
   "execution_count": 88,
   "id": "f52c0898",
   "metadata": {},
   "outputs": [
    {
     "name": "stdout",
     "output_type": "stream",
     "text": [
      "enter your salary : 10056\n",
      " your salary is good \n",
      "I will go for maruti \n"
     ]
    }
   ],
   "source": [
    "salary = int(input(\"enter your salary : \"))\n",
    "if salary > 1000:\n",
    "    print(\" your salary is good \")\n",
    "    if salary > 5000 and salary <= 10000:\n",
    "        print(\"i will go for the nano\")\n",
    "        if True:\n",
    "            print(\"false code\")\n",
    "    elif salary > 10000:\n",
    "        print(\"I will go for maruti \")\n",
    "    elif salary > 50000:\n",
    "        print(\"I will go for toyota\")\n",
    "    else :\n",
    "        print(\" I will rent a car\")        \n",
    "elif salary > 500:\n",
    "    print(\" I will go for bike\")\n",
    "elif salary > 100:\n",
    "    print(\"I will not buy anything\")\n",
    "else :\n",
    "    print(\"I will go for saving\")"
   ]
  },
  {
   "cell_type": "code",
   "execution_count": null,
   "id": "8c01e02b",
   "metadata": {},
   "outputs": [],
   "source": []
  }
 ],
 "metadata": {
  "kernelspec": {
   "display_name": "Python 3",
   "language": "python",
   "name": "python3"
  },
  "language_info": {
   "codemirror_mode": {
    "name": "ipython",
    "version": 3
   },
   "file_extension": ".py",
   "mimetype": "text/x-python",
   "name": "python",
   "nbconvert_exporter": "python",
   "pygments_lexer": "ipython3",
   "version": "3.8.8"
  }
 },
 "nbformat": 4,
 "nbformat_minor": 5
}
